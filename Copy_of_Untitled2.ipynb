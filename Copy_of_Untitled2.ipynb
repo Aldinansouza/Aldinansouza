{
  "nbformat": 4,
  "nbformat_minor": 0,
  "metadata": {
    "colab": {
      "name": "Copy of Untitled2.ipynb",
      "provenance": [],
      "collapsed_sections": [],
      "authorship_tag": "ABX9TyPBSRhrRjnsA0ZUQsoY08tC",
      "include_colab_link": true
    },
    "kernelspec": {
      "name": "python3",
      "display_name": "Python 3"
    },
    "language_info": {
      "name": "python"
    }
  },
  "cells": [
    {
      "cell_type": "markdown",
      "metadata": {
        "id": "view-in-github",
        "colab_type": "text"
      },
      "source": [
        "<a href=\"https://colab.research.google.com/github/Aldinansouza/Aldinansouza/blob/main/Copy_of_Untitled2.ipynb\" target=\"_parent\"><img src=\"https://colab.research.google.com/assets/colab-badge.svg\" alt=\"Open In Colab\"/></a>"
      ]
    },
    {
      "cell_type": "code",
      "execution_count": null,
      "metadata": {
        "colab": {
          "base_uri": "https://localhost:8080/"
        },
        "id": "q20RgpU0xRlX",
        "outputId": "aca65725-68f5-4041-f74d-8ff5f2d88a5b"
      },
      "outputs": [
        {
          "output_type": "stream",
          "name": "stdout",
          "text": [
            "digite um numero 2\n",
            "analizando o valor 2 seu anetecessor é 1 e seu sucessor é 3\n"
          ]
        }
      ],
      "source": [
        "n=int(input('digite um numero '))\n",
        "a=n-1\n",
        "s=n+1\n",
        "print('analizando o valor',n,'seu anetecessor é',a,'e seu sucessor é',s)\n",
        "\n"
      ]
    },
    {
      "cell_type": "code",
      "source": [
        "n=int(input('digite um numero'))\n",
        "d=n*2\n",
        "t=n*3\n",
        "r=n**(1/2)\n",
        "print('o dobro de',n,'vale',d)\n",
        "print('o triplo de',n,'vale',t)\n",
        "print('raiz quadrada de',n,'e igual a',r)"
      ],
      "metadata": {
        "colab": {
          "base_uri": "https://localhost:8080/"
        },
        "id": "TNHyDpQT08lm",
        "outputId": "5fcdd7bf-5cea-4e2d-bdaf-021b8ea79e83"
      },
      "execution_count": null,
      "outputs": [
        {
          "output_type": "stream",
          "name": "stdout",
          "text": [
            "digite um numero85\n",
            "o dobro de 85 vale 170\n",
            "o triplo de 85 vale 255\n",
            "raiz quadrada de 85 e igual a 9.219544457292887\n"
          ]
        }
      ]
    },
    {
      "cell_type": "code",
      "source": [
        "n1=float(input('primeira nota do aluno :'))\n",
        "n2=float(input('segunda nota do aluno :'))\n",
        "m=(n1+n2)/2\n",
        "print('a media entre',n1,'e',n2,'e igual a',m)\n",
        "\n"
      ],
      "metadata": {
        "colab": {
          "base_uri": "https://localhost:8080/"
        },
        "id": "7RjyXp2-Gm52",
        "outputId": "1c802ed9-ec70-4d9a-8b49-8b32d449ae2d"
      },
      "execution_count": null,
      "outputs": [
        {
          "output_type": "stream",
          "name": "stdout",
          "text": [
            "primeira nota do aluno :5.5\n",
            "segunda nota do aluno :2.0\n",
            "a media entre 5.5 e 2.0 e igual a 3.75\n"
          ]
        }
      ]
    }
  ]
}